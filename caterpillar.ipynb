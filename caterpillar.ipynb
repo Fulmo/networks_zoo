{
 "cells": [
  {
   "cell_type": "code",
   "execution_count": 1,
   "metadata": {},
   "outputs": [
    {
     "name": "stdout",
     "output_type": "stream",
     "text": [
      "TF version - 1.8.0\n",
      "Default GPU Device: /device:GPU:0\n",
      "---------- -----------\n",
      "Using device info: \n",
      "[name: \"/device:CPU:0\"\n",
      "device_type: \"CPU\"\n",
      "memory_limit: 268435456\n",
      "locality {\n",
      "}\n",
      "incarnation: 17073844676652143039\n",
      ", name: \"/device:GPU:0\"\n",
      "device_type: \"GPU\"\n",
      "memory_limit: 3225105203\n",
      "locality {\n",
      "  bus_id: 1\n",
      "  links {\n",
      "  }\n",
      "}\n",
      "incarnation: 6537104370700565146\n",
      "physical_device_desc: \"device: 0, name: GeForce GTX 960M, pci bus id: 0000:01:00.0, compute capability: 5.0\"\n",
      "]\n"
     ]
    }
   ],
   "source": [
    "from utils import gpu_cpu_test"
   ]
  },
  {
   "cell_type": "code",
   "execution_count": 1,
   "metadata": {},
   "outputs": [
    {
     "name": "stderr",
     "output_type": "stream",
     "text": [
      "Using TensorFlow backend.\n"
     ]
    }
   ],
   "source": [
    "#import libraries\n",
    "import numpy as np\n",
    "import matplotlib.pyplot as plt\n",
    "from dataset_getter import open_dataset\n",
    "\n",
    "from keras.layers import Input, Dense, Convolution2D, MaxPooling2D, UpSampling2D,BatchNormalization\n",
    "from keras.models import Model, load_model\n",
    "from keras import backend as K\n",
    "import easygui"
   ]
  },
  {
   "cell_type": "code",
   "execution_count": 254,
   "metadata": {},
   "outputs": [
    {
     "name": "stdout",
     "output_type": "stream",
     "text": [
      "загружаем 2д-датасет из файла C:\\Users\\milom\\YandexDisk\\Documents\\Programming\\Projects\\Python\\Deep Learning\\DL_ECG\\all_datasets_here\\ELECTRIC_AXIS.pkl\n",
      "409  записей \n",
      "y_train  имеет форму (274, 5)\n",
      "x_train  имеет форму (274, 12, 1, 5000)\n",
      "x_test   имеет форму (135, 12, 1, 5000)\n",
      "y_test   имеет форму (135, 5)\n",
      "после свопа со срезом x_test - (135, 400, 1, 12)\n",
      "после свопа со срезом x_train - (274, 400, 1, 12)\n"
     ]
    }
   ],
   "source": [
    "#load and prepare data\n",
    "n_channels=12\n",
    "ecg_segment_len = 400\n",
    "x_train, x_test, _, _ = open_dataset()\n",
    "x_train = np.swapaxes(x_train, 1, 3)\n",
    "x_test = np.swapaxes(x_test, 1, 3)\n",
    "x_train = x_train[:, 0:ecg_segment_len, :, : ]\n",
    "x_test = x_test[:, 0:ecg_segment_len, :, :]\n",
    "print(\"после свопа со срезом x_test - \" + str(x_test.shape))\n",
    "print(\"после свопа со срезом x_train - \" + str(x_train.shape))\n",
    "#slice 5000 -> 512"
   ]
  },
  {
   "cell_type": "code",
   "execution_count": 255,
   "metadata": {},
   "outputs": [],
   "source": [
    "#input data ecg\n",
    "input_data=Input(shape=(ecg_segment_len, 1, n_channels))"
   ]
  },
  {
   "cell_type": "code",
   "execution_count": 256,
   "metadata": {},
   "outputs": [],
   "source": [
    "#convolitonal layers\n",
    "#1l\n",
    "x=Convolution2D(10,kernel_size=(5,1),strides=(1,1), activation='elu',padding='same')(input_data)\n",
    "x=MaxPooling2D((2,1), padding='same')(x)\n",
    "#2l\n",
    "x=Convolution2D(13, kernel_size=(3,1),strides=(1,1),activation='linear', padding='same')(x)\n",
    "encoded=MaxPooling2D((2,1), padding='same')(x)\n",
    "#3l\n",
    "#x=Convolution2D(128, kernel_size=(3,1),strides=(1,1),activation='elu', padding='same')(x)\n",
    "#encoded=MaxPooling2D((2,2), padding='same')(x)\n",
    "#4l\n",
    "#x=Convolution2D(160, kernel_size=(3,1),strides=(1,1),activation='linear', padding='same')(x)\n",
    "#encoded=MaxPooling2D((2,2), padding='same')(x)\n"
   ]
  },
  {
   "cell_type": "code",
   "execution_count": 257,
   "metadata": {},
   "outputs": [],
   "source": [
    "#deconvolitonal layers\n",
    "#1dl\n",
    "x=Convolution2D(13,kernel_size=(5,1),strides=(1,1),activation='elu',padding='same', name='bottleneck')(encoded)\n",
    "x=UpSampling2D((2,1))(x)\n",
    "#2dl\n",
    "x=Convolution2D(10,kernel_size=(3,1),strides=(1,1),activation='elu',padding='same')(x)\n",
    "x=UpSampling2D((2,1))(x)\n",
    "#3 decoded layer\n",
    "x=Convolution2D(12,kernel_size=(3,1),strides=(1,1),activation='linear',padding='same')(x)\n",
    "decoded=UpSampling2D((1,1))(x)\n",
    "#4l\n",
    "#x=Convolution2D(12,kernel_size=(3,1),strides=(1,1),activation='elu',padding='same')(x)\n",
    "#decoded=UpSampling2D((1,1))(x)\n",
    "#decoded layer\n",
    "#x=Convolution2D(12,kernel_size=(1,1),strides=(1,1), activation='linear',padding='same')(x)\n",
    "#decoded=UpSampling2D((1,1))(x)\n"
   ]
  },
  {
   "cell_type": "code",
   "execution_count": 258,
   "metadata": {},
   "outputs": [
    {
     "name": "stdout",
     "output_type": "stream",
     "text": [
      "_________________________________________________________________\n",
      "Layer (type)                 Output Shape              Param #   \n",
      "=================================================================\n",
      "input_6 (InputLayer)         (None, 400, 1, 12)        0         \n",
      "_________________________________________________________________\n",
      "conv2d_221 (Conv2D)          (None, 400, 1, 10)        610       \n",
      "_________________________________________________________________\n",
      "max_pooling2d_105 (MaxPoolin (None, 200, 1, 10)        0         \n",
      "_________________________________________________________________\n",
      "conv2d_222 (Conv2D)          (None, 200, 1, 13)        403       \n",
      "_________________________________________________________________\n",
      "max_pooling2d_106 (MaxPoolin (None, 100, 1, 13)        0         \n",
      "_________________________________________________________________\n",
      "bottleneck (Conv2D)          (None, 100, 1, 13)        858       \n",
      "_________________________________________________________________\n",
      "up_sampling2d_151 (UpSamplin (None, 200, 1, 13)        0         \n",
      "_________________________________________________________________\n",
      "conv2d_223 (Conv2D)          (None, 200, 1, 10)        400       \n",
      "_________________________________________________________________\n",
      "up_sampling2d_152 (UpSamplin (None, 400, 1, 10)        0         \n",
      "_________________________________________________________________\n",
      "conv2d_224 (Conv2D)          (None, 400, 1, 12)        372       \n",
      "_________________________________________________________________\n",
      "up_sampling2d_153 (UpSamplin (None, 400, 1, 12)        0         \n",
      "=================================================================\n",
      "Total params: 2,643\n",
      "Trainable params: 2,643\n",
      "Non-trainable params: 0\n",
      "_________________________________________________________________\n"
     ]
    }
   ],
   "source": [
    "caterpillar=Model(input_data,decoded)\n",
    "caterpillar.summary()\n",
    "caterpillar.compile(optimizer='nadam',loss='mean_squared_logarithmic_error') "
   ]
  },
  {
   "cell_type": "code",
   "execution_count": 259,
   "metadata": {},
   "outputs": [
    {
     "name": "stdout",
     "output_type": "stream",
     "text": [
      "Train on 274 samples, validate on 135 samples\n",
      "Epoch 1/50\n",
      "274/274 [==============================] - 3s 12ms/step - loss: 2.6293 - val_loss: 1.9292\n",
      "Epoch 2/50\n",
      "274/274 [==============================] - 0s 706us/step - loss: 1.7565 - val_loss: 1.5848\n",
      "Epoch 3/50\n",
      "274/274 [==============================] - 0s 684us/step - loss: 1.5232 - val_loss: 1.4513\n",
      "Epoch 4/50\n",
      "274/274 [==============================] - 0s 692us/step - loss: 1.3606 - val_loss: 1.3049\n",
      "Epoch 5/50\n",
      "274/274 [==============================] - 0s 681us/step - loss: 1.2125 - val_loss: 1.1603\n",
      "Epoch 6/50\n",
      "274/274 [==============================] - 0s 702us/step - loss: 1.0467 - val_loss: 1.0051\n",
      "Epoch 7/50\n",
      "274/274 [==============================] - 0s 641us/step - loss: 0.8765 - val_loss: 0.8818\n",
      "Epoch 8/50\n",
      "274/274 [==============================] - 0s 652us/step - loss: 0.7513 - val_loss: 0.7733\n",
      "Epoch 9/50\n",
      "274/274 [==============================] - 0s 673us/step - loss: 0.6954 - val_loss: 0.7236\n",
      "Epoch 10/50\n",
      "274/274 [==============================] - 0s 644us/step - loss: 0.6561 - val_loss: 0.7123\n",
      "Epoch 11/50\n",
      "274/274 [==============================] - 0s 637us/step - loss: 0.6272 - val_loss: 0.6703\n",
      "Epoch 12/50\n",
      "274/274 [==============================] - 0s 666us/step - loss: 0.5945 - val_loss: 0.6481\n",
      "Epoch 13/50\n",
      "274/274 [==============================] - 0s 706us/step - loss: 0.5672 - val_loss: 0.6547\n",
      "Epoch 14/50\n",
      "274/274 [==============================] - 0s 684us/step - loss: 0.5592 - val_loss: 0.6246\n",
      "Epoch 15/50\n",
      "274/274 [==============================] - 0s 768us/step - loss: 0.5414 - val_loss: 0.5988\n",
      "Epoch 16/50\n",
      "274/274 [==============================] - 0s 761us/step - loss: 0.5228 - val_loss: 0.5862\n",
      "Epoch 17/50\n",
      "274/274 [==============================] - 0s 753us/step - loss: 0.5119 - val_loss: 0.6109\n",
      "Epoch 18/50\n",
      "274/274 [==============================] - 0s 702us/step - loss: 0.5008 - val_loss: 0.6010\n",
      "Epoch 19/50\n",
      "274/274 [==============================] - 0s 713us/step - loss: 0.4972 - val_loss: 0.6237\n",
      "Epoch 20/50\n",
      "274/274 [==============================] - 0s 673us/step - loss: 0.4962 - val_loss: 0.5524\n",
      "Epoch 21/50\n",
      "274/274 [==============================] - 0s 670us/step - loss: 0.4701 - val_loss: 0.5375\n",
      "Epoch 22/50\n",
      "274/274 [==============================] - 0s 673us/step - loss: 0.4636 - val_loss: 0.5334\n",
      "Epoch 23/50\n",
      "274/274 [==============================] - 0s 677us/step - loss: 0.4482 - val_loss: 0.5149\n",
      "Epoch 24/50\n",
      "274/274 [==============================] - 0s 619us/step - loss: 0.4406 - val_loss: 0.5203\n",
      "Epoch 25/50\n",
      "274/274 [==============================] - 0s 652us/step - loss: 0.4451 - val_loss: 0.5337\n",
      "Epoch 26/50\n",
      "274/274 [==============================] - 0s 713us/step - loss: 0.4335 - val_loss: 0.4938\n",
      "Epoch 27/50\n",
      "274/274 [==============================] - 0s 739us/step - loss: 0.4310 - val_loss: 0.4910\n",
      "Epoch 28/50\n",
      "274/274 [==============================] - 0s 743us/step - loss: 0.4082 - val_loss: 0.4717\n",
      "Epoch 29/50\n",
      "274/274 [==============================] - 0s 746us/step - loss: 0.4086 - val_loss: 0.4495\n",
      "Epoch 30/50\n",
      "274/274 [==============================] - 0s 702us/step - loss: 0.3838 - val_loss: 0.4663\n",
      "Epoch 31/50\n",
      "274/274 [==============================] - 0s 695us/step - loss: 0.3857 - val_loss: 0.4468\n",
      "Epoch 32/50\n",
      "274/274 [==============================] - 0s 655us/step - loss: 0.3917 - val_loss: 0.4261\n",
      "Epoch 33/50\n",
      "274/274 [==============================] - 0s 699us/step - loss: 0.3757 - val_loss: 0.4557\n",
      "Epoch 34/50\n",
      "274/274 [==============================] - 0s 662us/step - loss: 0.3689 - val_loss: 0.4214\n",
      "Epoch 35/50\n",
      "274/274 [==============================] - 0s 615us/step - loss: 0.3533 - val_loss: 0.3972\n",
      "Epoch 36/50\n",
      "274/274 [==============================] - 0s 724us/step - loss: 0.3489 - val_loss: 0.4030\n",
      "Epoch 37/50\n",
      "274/274 [==============================] - 0s 728us/step - loss: 0.3347 - val_loss: 0.3993\n",
      "Epoch 38/50\n",
      "274/274 [==============================] - 0s 750us/step - loss: 0.3525 - val_loss: 0.4459\n",
      "Epoch 39/50\n",
      "274/274 [==============================] - 0s 761us/step - loss: 0.3438 - val_loss: 0.3886\n",
      "Epoch 40/50\n",
      "274/274 [==============================] - 0s 757us/step - loss: 0.3283 - val_loss: 0.4005\n",
      "Epoch 41/50\n",
      "274/274 [==============================] - 0s 724us/step - loss: 0.3419 - val_loss: 0.4027\n",
      "Epoch 42/50\n",
      "274/274 [==============================] - 0s 746us/step - loss: 0.3209 - val_loss: 0.4385\n",
      "Epoch 43/50\n",
      "274/274 [==============================] - 0s 688us/step - loss: 0.3338 - val_loss: 0.3727\n",
      "Epoch 44/50\n",
      "274/274 [==============================] - 0s 662us/step - loss: 0.3121 - val_loss: 0.3773\n",
      "Epoch 45/50\n",
      "274/274 [==============================] - 0s 688us/step - loss: 0.3220 - val_loss: 0.3741\n",
      "Epoch 46/50\n",
      "274/274 [==============================] - 0s 670us/step - loss: 0.3089 - val_loss: 0.3860\n",
      "Epoch 47/50\n",
      "274/274 [==============================] - 0s 713us/step - loss: 0.3144 - val_loss: 0.3921\n",
      "Epoch 48/50\n",
      "274/274 [==============================] - 0s 684us/step - loss: 0.3167 - val_loss: 0.3589\n",
      "Epoch 49/50\n",
      "274/274 [==============================] - 0s 684us/step - loss: 0.3069 - val_loss: 0.3563\n",
      "Epoch 50/50\n",
      "274/274 [==============================] - 0s 724us/step - loss: 0.3071 - val_loss: 0.3609\n"
     ]
    }
   ],
   "source": [
    "train_history=caterpillar.fit(x_train,x_train, epochs=50,batch_size=20,shuffle=True,validation_data=(x_test,x_test),callbacks=None)"
   ]
  },
  {
   "cell_type": "code",
   "execution_count": 247,
   "metadata": {},
   "outputs": [
    {
     "data": {
      "image/png": "[encoded data removed]",
      "text/plain": [
       "<Figure size 432x288 with 1 Axes>"
      ]
     },
     "metadata": {},
     "output_type": "display_data"
    }
   ],
   "source": [
    "#from keras.models import load_model\n",
    "def save_history(history, caterpillar_name):\n",
    "    plt.plot(history.history['loss'])\n",
    "    plt.plot(history.history['val_loss'])\n",
    "    plt.title('model loss')\n",
    "    plt.ylabel('loss')\n",
    "    plt.xlabel('epoch')\n",
    "    plt.legend(['train', 'test'], loc='upper left')\n",
    "    plt.savefig(caterpillar_name+\".png\")\n",
    "    caterpillar.save(caterpillar_name+'.h5')\n",
    "    caterpillar.save_weights(caterpillar_name+'_weights.h5')\n",
    "#правда в данном случае нужно подкрутить\n",
    "save_history(train_history, 'ctp')\n"
   ]
  },
  {
   "cell_type": "code",
   "execution_count": 9,
   "metadata": {},
   "outputs": [],
   "source": [
    "#Visualization test\n",
    "def show_reconstruction_by_ae(ecg_sample, name):\n",
    "    filepath = easygui.fileopenbox(\"выберите файл с обученной моделью .h5\")\n",
    "    trained_model = load_model(filepath)\n",
    "\n",
    "    ecg_sample = np.array([ecg_sample])\n",
    "    prediction = trained_model.predict(ecg_sample)\n",
    "\n",
    "    draw_reconstruction_to_png(ecg_sample[0],prediction[0], name)\n",
    "\n",
    "def get_ecg_test_sample(num_patient):\n",
    "    sample = x_test[num_patient,:,:,:]\n",
    "    print(\"форма тензора с экг: \"+ str(sample.shape))\n",
    "    return sample\n",
    "\n",
    "def draw_reconstruction_to_png(ecg_true, ecg_predicted, png_filename):\n",
    "    \"\"\"\n",
    "    :param ecg_true: истинная экг\n",
    "    :param ecg_predicted: предсказанное\n",
    "    :param png_filename: имя для файла с картинкой\n",
    "    :return:\n",
    "    \"\"\"\n",
    "    ecg_true = reshape_ecg_tensor(ecg_true)\n",
    "    ecg_predicted = reshape_ecg_tensor(ecg_predicted)\n",
    "\n",
    "    assert ecg_true.shape == ecg_predicted.shape\n",
    "\n",
    "    len_of_time = len(ecg_true[0])\n",
    "    t = [i for i in range(len_of_time)]\n",
    "\n",
    "\n",
    "    rows = len(ecg_true)  # кол-во каналов\n",
    "    cols = 2              # true и predicted - 2 столбика\n",
    "    f, axarr = plt.subplots(nrows=rows, ncols=cols, sharex=True, sharey=True)\n",
    "    for i in range(rows):\n",
    "        true_i_chanel = ecg_true[i]\n",
    "        predicted_i_chanel = ecg_predicted[i]\n",
    "        axarr[i, 0].plot(t, true_i_chanel)\n",
    "        axarr[i, 1].plot(t, predicted_i_chanel)\n",
    "\n",
    "\n",
    "    plt.savefig(png_filename+\".png\")\n",
    "\n",
    "def reshape_ecg_tensor(ecg):\n",
    "    # превратим (252, 1, 12) в (12, 252)\n",
    "    print (\"форма тезора с экг =  \" + str(ecg.shape))\n",
    "    ecg = ecg[:,0,:]\n",
    "    ecg = np.transpose(ecg)\n",
    "    print (\"форма тезора с экг (после напильника) =\" + str(ecg))\n",
    "    return ecg"
   ]
  },
  {
   "cell_type": "code",
   "execution_count": 248,
   "metadata": {},
   "outputs": [
    {
     "name": "stdout",
     "output_type": "stream",
     "text": [
      "форма тензора с экг: (400, 1, 12)\n",
      "форма тезора с экг =  (400, 1, 12)\n",
      "форма тезора с экг (после напильника) =[[ -6.02731365  -5.87472343  -5.87472343 ...  67.97894255  67.97894255\n",
      "   61.87533379]\n",
      " [-18.23453117 -18.08194095 -18.08194095 ...  56.53467613  47.37926299\n",
      "   38.22384985]\n",
      " [-12.13092241 -12.13092241 -12.13092241 ... -11.36797131 -20.52338445\n",
      "  -23.57518883]\n",
      " ...\n",
      " [  3.12809949   3.12809949   3.12809949 ... 228.19867247 204.54718853\n",
      "  174.02914473]\n",
      " [-24.33813993 -24.18554971 -24.18554971 ... 299.91607538 269.39803159\n",
      "  228.19867247]\n",
      " [-30.44174868 -30.28915846 -30.28915846 ... 262.53147173 244.22064546\n",
      "  216.75440604]]\n",
      "форма тезора с экг =  (400, 1, 12)\n",
      "форма тезора с экг (после напильника) =[[-3.61660028e+00 -1.39226234e+00 -2.42597866e+00 ...  8.08705978e+01\n",
      "   7.10006638e+01  6.46764984e+01]\n",
      " [-2.39560232e-01 -4.04457951e+00 -4.97639227e+00 ...  3.10195980e+01\n",
      "   2.24954910e+01  5.45758820e+00]\n",
      " [-3.35658014e-01 -3.40122056e+00 -3.85350943e+00 ... -1.89492817e+01\n",
      "  -4.93683052e+01  1.95111389e+01]\n",
      " ...\n",
      " [-1.63731766e+00 -1.43694505e-02 -7.74666592e-02 ...  1.14819801e+02\n",
      "   9.71669312e+01  4.72399025e+01]\n",
      " [-2.51001120e-01 -1.78358543e+00 -1.73473263e+00 ...  1.50264465e+02\n",
      "   1.05816360e+02  6.59923477e+01]\n",
      " [ 2.65134364e-01 -9.79358912e-01  5.20543635e-01 ...  1.01837845e+02\n",
      "   5.96432190e+01  4.30653419e+01]]\n"
     ]
    },
    {
     "data": {
      "image/png": "[encoded data removed]",
      "text/plain": [
       "<Figure size 432x288 with 24 Axes>"
      ]
     },
     "metadata": {},
     "output_type": "display_data"
    }
   ],
   "source": [
    "name = \"reconstr\"\n",
    "#model = train_canterpillar(name)\n",
    "ecg_sample = get_ecg_test_sample(num_patient=0)\n",
    "show_reconstruction_by_ae(ecg_sample, name)"
   ]
  },
  {
   "cell_type": "code",
   "execution_count": null,
   "metadata": {},
   "outputs": [],
   "source": []
  }
 ],
 "metadata": {
  "kernelspec": {
   "display_name": "Python 3",
   "language": "python",
   "name": "python3"
  },
  "language_info": {
   "codemirror_mode": {
    "name": "ipython",
    "version": 3
   },
   "file_extension": ".py",
   "mimetype": "text/x-python",
   "name": "python",
   "nbconvert_exporter": "python",
   "pygments_lexer": "ipython3",
   "version": "3.5.5"
  }
 },
 "nbformat": 4,
 "nbformat_minor": 2
}
