{
 "cells": [
  {
   "cell_type": "code",
   "execution_count": 3,
   "metadata": {},
   "outputs": [
    {
     "name": "stdout",
     "output_type": "stream",
     "text": [
      "TF version - 1.8.0\n",
      "Default GPU Device: /device:GPU:0\n",
      "---------- -----------\n",
      "Using device info: \n",
      "[name: \"/device:CPU:0\"\n",
      "device_type: \"CPU\"\n",
      "memory_limit: 268435456\n",
      "locality {\n",
      "}\n",
      "incarnation: 4205731412754280586\n",
      ", name: \"/device:GPU:0\"\n",
      "device_type: \"GPU\"\n",
      "memory_limit: 3225105203\n",
      "locality {\n",
      "  bus_id: 1\n",
      "  links {\n",
      "  }\n",
      "}\n",
      "incarnation: 339369582078799073\n",
      "physical_device_desc: \"device: 0, name: GeForce GTX 960M, pci bus id: 0000:01:00.0, compute capability: 5.0\"\n",
      "]\n"
     ]
    }
   ],
   "source": [
    "from utils import gpu_cpu_test\n",
    "gpu_cpu_test()\n",
    "#checking gpu|cpu computation abilities"
   ]
  },
  {
   "cell_type": "code",
   "execution_count": 4,
   "metadata": {},
   "outputs": [
    {
     "name": "stderr",
     "output_type": "stream",
     "text": [
      "Using TensorFlow backend.\n"
     ]
    }
   ],
   "source": [
    "#import libraries\n",
    "import numpy as np\n",
    "import matplotlib.pyplot as plt\n",
    "from dataset_getter import open_dataset\n",
    "from utils import save_history\n",
    "\n",
    "from keras.layers import Input, Dense, Convolution2D, MaxPooling2D, UpSampling2D,BatchNormalization\n",
    "from keras.models import Model, load_model\n",
    "from keras import backend as K\n",
    "import easygui"
   ]
  },
  {
   "cell_type": "code",
   "execution_count": 5,
   "metadata": {},
   "outputs": [
    {
     "name": "stdout",
     "output_type": "stream",
     "text": [
      "загружаем 2д-датасет из файла C:\\Users\\milom\\YandexDisk\\Documents\\Programming\\Projects\\Python\\Deep Learning\\DL_ECG\\all_datasets_here\\ELECTRIC_AXIS.pkl\n",
      "409  записей \n",
      "y_train  имеет форму (274, 5)\n",
      "x_train  имеет форму (274, 12, 1, 5000)\n",
      "x_test   имеет форму (135, 12, 1, 5000)\n",
      "y_test   имеет форму (135, 5)\n",
      "после свопа со срезом x_test - (135, 256, 1, 12)\n",
      "после свопа со срезом x_train - (274, 256, 1, 12)\n"
     ]
    }
   ],
   "source": [
    "#load and prepare data\n",
    "n_channels=12\n",
    "ecg_segment_len = 256\n",
    "x_train, x_test, _, _ = open_dataset()\n",
    "x_train = np.swapaxes(x_train, 1, 3)\n",
    "x_test = np.swapaxes(x_test, 1, 3)\n",
    "x_train = x_train[:, 0:ecg_segment_len, :, : ]\n",
    "x_test = x_test[:, 0:ecg_segment_len, :, :]\n",
    "print(\"после свопа со срезом x_test - \" + str(x_test.shape))\n",
    "print(\"после свопа со срезом x_train - \" + str(x_train.shape))\n",
    "#slice 5000 -> 256"
   ]
  },
  {
   "cell_type": "code",
   "execution_count": 6,
   "metadata": {},
   "outputs": [],
   "source": [
    "#input data ecg\n",
    "input_data=Input(shape=(ecg_segment_len, 1, n_channels))"
   ]
  },
  {
   "cell_type": "code",
   "execution_count": 19,
   "metadata": {},
   "outputs": [],
   "source": [
    "#convolitonal layers\n",
    "#1l\n",
    "x=Convolution2D(10,kernel_size=(5,1),strides=(1,1), activation='elu',padding='same')(input_data)\n",
    "x=MaxPooling2D((2,1), padding='same')(x)\n",
    "#2l\n",
    "x=Convolution2D(13, kernel_size=(3,1),strides=(1,1),activation='linear', padding='same')(x)\n",
    "encoded=MaxPooling2D((2,1), padding='same')(x)\n",
    "#3l\n",
    "#x=Convolution2D(128, kernel_size=(3,1),strides=(1,1),activation='elu', padding='same')(x)\n",
    "#encoded=MaxPooling2D((2,2), padding='same')(x)\n",
    "#4l\n",
    "#x=Convolution2D(160, kernel_size=(3,1),strides=(1,1),activation='linear', padding='same')(x)\n",
    "#encoded=MaxPooling2D((2,2), padding='same')(x)\n"
   ]
  },
  {
   "cell_type": "code",
   "execution_count": 20,
   "metadata": {},
   "outputs": [],
   "source": [
    "#deconvolitonal layers\n",
    "#1dl\n",
    "x=Convolution2D(13,kernel_size=(5,1),strides=(1,1),activation='elu',padding='same', name='bottleneck')(encoded)\n",
    "x=UpSampling2D((2,1))(x)\n",
    "#2dl\n",
    "x=Convolution2D(10,kernel_size=(3,1),strides=(1,1),activation='elu',padding='same')(x)\n",
    "x=UpSampling2D((2,1))(x)\n",
    "#3 decoded layer\n",
    "x=Convolution2D(12,kernel_size=(3,1),strides=(1,1),activation='linear',padding='same')(x)\n",
    "decoded=UpSampling2D((1,1))(x)\n",
    "#4l\n",
    "#x=Convolution2D(12,kernel_size=(3,1),strides=(1,1),activation='elu',padding='same')(x)\n",
    "#decoded=UpSampling2D((1,1))(x)\n",
    "#decoded layer\n",
    "#x=Convolution2D(12,kernel_size=(1,1),strides=(1,1), activation='linear',padding='same')(x)\n",
    "#decoded=UpSampling2D((1,1))(x)\n"
   ]
  },
  {
   "cell_type": "code",
   "execution_count": 21,
   "metadata": {},
   "outputs": [
    {
     "name": "stdout",
     "output_type": "stream",
     "text": [
      "_________________________________________________________________\n",
      "Layer (type)                 Output Shape              Param #   \n",
      "=================================================================\n",
      "input_1 (InputLayer)         (None, 256, 1, 12)        0         \n",
      "_________________________________________________________________\n",
      "conv2d_5 (Conv2D)            (None, 256, 1, 10)        610       \n",
      "_________________________________________________________________\n",
      "max_pooling2d_3 (MaxPooling2 (None, 128, 1, 10)        0         \n",
      "_________________________________________________________________\n",
      "conv2d_6 (Conv2D)            (None, 128, 1, 13)        403       \n",
      "_________________________________________________________________\n",
      "max_pooling2d_4 (MaxPooling2 (None, 64, 1, 13)         0         \n",
      "_________________________________________________________________\n",
      "bottleneck (Conv2D)          (None, 64, 1, 13)         858       \n",
      "_________________________________________________________________\n",
      "up_sampling2d_4 (UpSampling2 (None, 128, 1, 13)        0         \n",
      "_________________________________________________________________\n",
      "conv2d_7 (Conv2D)            (None, 128, 1, 10)        400       \n",
      "_________________________________________________________________\n",
      "up_sampling2d_5 (UpSampling2 (None, 256, 1, 10)        0         \n",
      "_________________________________________________________________\n",
      "conv2d_8 (Conv2D)            (None, 256, 1, 12)        372       \n",
      "_________________________________________________________________\n",
      "up_sampling2d_6 (UpSampling2 (None, 256, 1, 12)        0         \n",
      "=================================================================\n",
      "Total params: 2,643\n",
      "Trainable params: 2,643\n",
      "Non-trainable params: 0\n",
      "_________________________________________________________________\n"
     ]
    }
   ],
   "source": [
    "caterpillar=Model(input_data,decoded)\n",
    "caterpillar.summary()\n",
    "caterpillar.compile(optimizer='nadam',loss='mean_squared_logarithmic_error') "
   ]
  },
  {
   "cell_type": "code",
   "execution_count": 22,
   "metadata": {},
   "outputs": [
    {
     "name": "stdout",
     "output_type": "stream",
     "text": [
      "Train on 274 samples, validate on 135 samples\n",
      "Epoch 1/50\n",
      "274/274 [==============================] - 1s 3ms/step - loss: 2.4366 - val_loss: 2.0202\n",
      "Epoch 2/50\n",
      "274/274 [==============================] - 0s 444us/step - loss: 1.7426 - val_loss: 1.5846\n",
      "Epoch 3/50\n",
      "274/274 [==============================] - 0s 455us/step - loss: 1.3979 - val_loss: 1.3842\n",
      "Epoch 4/50\n",
      "274/274 [==============================] - 0s 430us/step - loss: 1.1771 - val_loss: 1.1773\n",
      "Epoch 5/50\n",
      "274/274 [==============================] - 0s 473us/step - loss: 1.0054 - val_loss: 1.0141\n",
      "Epoch 6/50\n",
      "274/274 [==============================] - 0s 459us/step - loss: 0.9059 - val_loss: 0.9494\n",
      "Epoch 7/50\n",
      "274/274 [==============================] - 0s 459us/step - loss: 0.8254 - val_loss: 0.9108\n",
      "Epoch 8/50\n",
      "274/274 [==============================] - 0s 473us/step - loss: 0.7821 - val_loss: 0.8755\n",
      "Epoch 9/50\n",
      "274/274 [==============================] - 0s 477us/step - loss: 0.7426 - val_loss: 0.8736\n",
      "Epoch 10/50\n",
      "274/274 [==============================] - 0s 470us/step - loss: 0.7104 - val_loss: 0.8311\n",
      "Epoch 11/50\n",
      "274/274 [==============================] - 0s 491us/step - loss: 0.6665 - val_loss: 0.8267\n",
      "Epoch 12/50\n",
      "274/274 [==============================] - 0s 499us/step - loss: 0.6345 - val_loss: 0.7870\n",
      "Epoch 13/50\n",
      "274/274 [==============================] - 0s 499us/step - loss: 0.6019 - val_loss: 0.7447\n",
      "Epoch 14/50\n",
      "274/274 [==============================] - 0s 513us/step - loss: 0.5933 - val_loss: 0.7138\n",
      "Epoch 15/50\n",
      "274/274 [==============================] - 0s 462us/step - loss: 0.5705 - val_loss: 0.6951\n",
      "Epoch 16/50\n",
      "274/274 [==============================] - 0s 459us/step - loss: 0.5611 - val_loss: 0.6838\n",
      "Epoch 17/50\n",
      "274/274 [==============================] - 0s 459us/step - loss: 0.5374 - val_loss: 0.6831\n",
      "Epoch 18/50\n",
      "274/274 [==============================] - 0s 459us/step - loss: 0.5381 - val_loss: 0.6611\n",
      "Epoch 19/50\n",
      "274/274 [==============================] - 0s 484us/step - loss: 0.5425 - val_loss: 0.6584\n",
      "Epoch 20/50\n",
      "274/274 [==============================] - 0s 495us/step - loss: 0.5184 - val_loss: 0.6912\n",
      "Epoch 21/50\n",
      "274/274 [==============================] - 0s 491us/step - loss: 0.5134 - val_loss: 0.7960\n",
      "Epoch 22/50\n",
      "274/274 [==============================] - 0s 462us/step - loss: 0.5208 - val_loss: 0.6481\n",
      "Epoch 23/50\n",
      "274/274 [==============================] - 0s 455us/step - loss: 0.5008 - val_loss: 0.6452\n",
      "Epoch 24/50\n",
      "274/274 [==============================] - 0s 422us/step - loss: 0.5036 - val_loss: 0.6389\n",
      "Epoch 25/50\n",
      "274/274 [==============================] - 0s 408us/step - loss: 0.4937 - val_loss: 0.6452\n",
      "Epoch 26/50\n",
      "274/274 [==============================] - 0s 437us/step - loss: 0.4905 - val_loss: 0.6330\n",
      "Epoch 27/50\n",
      "274/274 [==============================] - 0s 451us/step - loss: 0.4859 - val_loss: 0.6352\n",
      "Epoch 28/50\n",
      "274/274 [==============================] - 0s 480us/step - loss: 0.4760 - val_loss: 0.6175\n",
      "Epoch 29/50\n",
      "274/274 [==============================] - 0s 451us/step - loss: 0.4714 - val_loss: 0.6325\n",
      "Epoch 30/50\n",
      "274/274 [==============================] - 0s 419us/step - loss: 0.4913 - val_loss: 0.6512\n",
      "Epoch 31/50\n",
      "274/274 [==============================] - 0s 415us/step - loss: 0.4912 - val_loss: 0.6362\n",
      "Epoch 32/50\n",
      "274/274 [==============================] - 0s 415us/step - loss: 0.4622 - val_loss: 0.6227\n",
      "Epoch 33/50\n",
      "274/274 [==============================] - 0s 400us/step - loss: 0.4685 - val_loss: 0.6015\n",
      "Epoch 34/50\n",
      "274/274 [==============================] - 0s 437us/step - loss: 0.4710 - val_loss: 0.6142\n",
      "Epoch 35/50\n",
      "274/274 [==============================] - 0s 470us/step - loss: 0.4630 - val_loss: 0.6404\n",
      "Epoch 36/50\n",
      "274/274 [==============================] - 0s 473us/step - loss: 0.4593 - val_loss: 0.6048\n",
      "Epoch 37/50\n",
      "274/274 [==============================] - 0s 466us/step - loss: 0.4626 - val_loss: 0.6135\n",
      "Epoch 38/50\n",
      "274/274 [==============================] - 0s 470us/step - loss: 0.4541 - val_loss: 0.6150\n",
      "Epoch 39/50\n",
      "274/274 [==============================] - 0s 499us/step - loss: 0.4563 - val_loss: 0.6078\n",
      "Epoch 40/50\n",
      "274/274 [==============================] - 0s 495us/step - loss: 0.4626 - val_loss: 0.6086\n",
      "Epoch 41/50\n",
      "274/274 [==============================] - 0s 462us/step - loss: 0.4537 - val_loss: 0.6046\n",
      "Epoch 42/50\n",
      "274/274 [==============================] - 0s 462us/step - loss: 0.4493 - val_loss: 0.6141\n",
      "Epoch 43/50\n",
      "274/274 [==============================] - 0s 480us/step - loss: 0.4570 - val_loss: 0.6861\n",
      "Epoch 44/50\n",
      "274/274 [==============================] - 0s 473us/step - loss: 0.4744 - val_loss: 0.5971\n",
      "Epoch 45/50\n",
      "274/274 [==============================] - 0s 546us/step - loss: 0.4441 - val_loss: 0.5978\n",
      "Epoch 46/50\n",
      "274/274 [==============================] - 0s 506us/step - loss: 0.4405 - val_loss: 0.6045\n",
      "Epoch 47/50\n",
      "274/274 [==============================] - 0s 466us/step - loss: 0.4494 - val_loss: 0.5939\n",
      "Epoch 48/50\n",
      "274/274 [==============================] - 0s 462us/step - loss: 0.4448 - val_loss: 0.5942\n",
      "Epoch 49/50\n",
      "274/274 [==============================] - 0s 470us/step - loss: 0.4351 - val_loss: 0.5904\n",
      "Epoch 50/50\n",
      "274/274 [==============================] - 0s 466us/step - loss: 0.4418 - val_loss: 0.6120\n"
     ]
    }
   ],
   "source": [
    "train_history=caterpillar.fit(x_train,x_train, epochs=50,batch_size=20,shuffle=True,validation_data=(x_test,x_test),callbacks=None)"
   ]
  },
  {
   "cell_type": "code",
   "execution_count": 38,
   "metadata": {},
   "outputs": [
    {
     "data": {
      "image/png": "[encoded data removed]",
      "text/plain": [
       "<Figure size 432x288 with 1 Axes>"
      ]
     },
     "metadata": {},
     "output_type": "display_data"
    }
   ],
   "source": [
    "save_history(train_history,'ctp')\n",
    "model_name='ae_'\n",
    "caterpillar.save(model_name+'ctp.h5')\n",
    "caterpillar.save_weights(model_name+'ctp_weights.h5')"
   ]
  },
  {
   "cell_type": "code",
   "execution_count": 24,
   "metadata": {},
   "outputs": [],
   "source": [
    "#Visualization test\n",
    "def show_reconstruction_by_ae(ecg_sample, name):\n",
    "    filepath = easygui.fileopenbox(\"выберите файл с обученной моделью .h5\")\n",
    "    trained_model = load_model(filepath)\n",
    "\n",
    "    ecg_sample = np.array([ecg_sample])\n",
    "    prediction = trained_model.predict(ecg_sample)\n",
    "\n",
    "    draw_reconstruction_to_png(ecg_sample[0],prediction[0], name)\n",
    "\n",
    "def get_ecg_test_sample(num_patient):\n",
    "    sample = x_test[num_patient,:,:,:]\n",
    "    print(\"форма тензора с экг: \"+ str(sample.shape))\n",
    "    return sample\n",
    "\n",
    "def draw_reconstruction_to_png(ecg_true, ecg_predicted, png_filename):\n",
    "    \"\"\"\n",
    "    :param ecg_true: истинная экг\n",
    "    :param ecg_predicted: предсказанное\n",
    "    :param png_filename: имя для файла с картинкой\n",
    "    :return:\n",
    "    \"\"\"\n",
    "    ecg_true = reshape_ecg_tensor(ecg_true)\n",
    "    ecg_predicted = reshape_ecg_tensor(ecg_predicted)\n",
    "\n",
    "    assert ecg_true.shape == ecg_predicted.shape\n",
    "\n",
    "    len_of_time = len(ecg_true[0])\n",
    "    t = [i for i in range(len_of_time)]\n",
    "\n",
    "\n",
    "    rows = len(ecg_true)  # кол-во каналов\n",
    "    cols = 2              # true и predicted - 2 столбика\n",
    "    f, axarr = plt.subplots(nrows=rows, ncols=cols, sharex=True, sharey=True)\n",
    "    for i in range(rows):\n",
    "        true_i_chanel = ecg_true[i]\n",
    "        predicted_i_chanel = ecg_predicted[i]\n",
    "        axarr[i, 0].plot(t, true_i_chanel)\n",
    "        axarr[i, 1].plot(t, predicted_i_chanel)\n",
    "\n",
    "\n",
    "    plt.savefig(png_filename+\".png\")\n",
    "\n",
    "def reshape_ecg_tensor(ecg):\n",
    "    # превратим (256, 1, 12) в (12, 256)\n",
    "    print (\"форма тезора с экг =  \" + str(ecg.shape))\n",
    "    ecg = ecg[:,0,:]\n",
    "    ecg = np.transpose(ecg)\n",
    "    print (\"форма тезора с экг(после изменения) =\" + str(ecg))\n",
    "    return ecg"
   ]
  },
  {
   "cell_type": "code",
   "execution_count": 39,
   "metadata": {},
   "outputs": [
    {
     "name": "stdout",
     "output_type": "stream",
     "text": [
      "форма тензора с экг: (256, 1, 12)\n",
      "форма тезора с экг =  (256, 1, 12)\n",
      "форма тезора с экг(после изменения) =[[ -6.02731365  -5.87472343  -5.87472343 ...  -5.87472343  -5.87472343\n",
      "   -5.87472343]\n",
      " [-18.23453117 -18.08194095 -18.08194095 ... -27.23735409 -27.23735409\n",
      "  -27.23735409]\n",
      " [-12.13092241 -12.13092241 -12.13092241 ... -21.28633555 -21.28633555\n",
      "  -21.28633555]\n",
      " ...\n",
      " [  3.12809949   3.12809949   3.12809949 ...  -5.87472343  -5.87472343\n",
      "   -5.87472343]\n",
      " [-24.33813993 -24.18554971 -24.18554971 ... -14.11459525 -13.50423438\n",
      "  -12.74128328]\n",
      " [-30.44174868 -30.28915846 -30.28915846 ... -15.03013657 -15.03013657\n",
      "  -15.03013657]]\n",
      "форма тезора с экг =  (256, 1, 12)\n",
      "форма тезора с экг(после изменения) =[[ 7.5270849e-01 -6.2903833e+00 -1.1054174e+00 ... -9.3925589e-01\n",
      "  -3.1125009e+00  1.2344885e+00]\n",
      " [-3.6602378e+00 -9.1430511e+00 -1.0038895e+01 ... -1.2823693e+01\n",
      "  -1.0023572e+01 -7.1119294e+00]\n",
      " [ 8.1719267e-01 -3.2430642e+00 -4.4942203e+00 ... -1.2235852e+01\n",
      "  -1.0741132e+01 -6.0554624e+00]\n",
      " ...\n",
      " [-2.3313956e+00 -3.7074957e+00 -2.4831507e+00 ... -1.2908996e+00\n",
      "  -1.4203467e+00 -6.1367667e-01]\n",
      " [-4.6747346e+00 -3.4835627e+00 -4.9393239e+00 ... -3.6621988e-03\n",
      "   2.7553442e-01  1.0324653e+00]\n",
      " [-4.9710531e+00 -9.7870646e+00 -1.0423512e+01 ... -1.5511974e+00\n",
      "  -9.2188680e-01  3.6314756e-01]]\n"
     ]
    },
    {
     "data": {
      "image/png": "[encoded data removed]",
      "text/plain": [
       "<Figure size 432x288 with 24 Axes>"
      ]
     },
     "metadata": {},
     "output_type": "display_data"
    }
   ],
   "source": [
    "name = \"reconstr\"\n",
    "#model = train_canterpillar(name)\n",
    "ecg_sample = get_ecg_test_sample(num_patient=0)\n",
    "show_reconstruction_by_ae(ecg_sample, name)"
   ]
  },
  {
   "cell_type": "code",
   "execution_count": null,
   "metadata": {},
   "outputs": [],
   "source": []
  }
 ],
 "metadata": {
  "kernelspec": {
   "display_name": "Python 3",
   "language": "python",
   "name": "python3"
  },
  "language_info": {
   "codemirror_mode": {
    "name": "ipython",
    "version": 3
   },
   "file_extension": ".py",
   "mimetype": "text/x-python",
   "name": "python",
   "nbconvert_exporter": "python",
   "pygments_lexer": "ipython3",
   "version": "3.5.5"
  }
 },
 "nbformat": 4,
 "nbformat_minor": 2
}
