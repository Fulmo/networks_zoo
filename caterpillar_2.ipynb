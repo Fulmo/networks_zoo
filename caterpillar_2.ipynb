{
 "cells": [
  {
   "cell_type": "code",
   "execution_count": 1,
   "metadata": {},
   "outputs": [
    {
     "name": "stdout",
     "output_type": "stream",
     "text": [
      "TF version - 1.8.0\n",
      "Default GPU Device: /device:GPU:0\n",
      "---------- -----------\n",
      "Using device info: \n",
      "[name: \"/device:CPU:0\"\n",
      "device_type: \"CPU\"\n",
      "memory_limit: 268435456\n",
      "locality {\n",
      "}\n",
      "incarnation: 4456221601323706802\n",
      ", name: \"/device:GPU:0\"\n",
      "device_type: \"GPU\"\n",
      "memory_limit: 3225105203\n",
      "locality {\n",
      "  bus_id: 1\n",
      "  links {\n",
      "  }\n",
      "}\n",
      "incarnation: 2520851364597846146\n",
      "physical_device_desc: \"device: 0, name: GeForce GTX 960M, pci bus id: 0000:01:00.0, compute capability: 5.0\"\n",
      "]\n"
     ]
    }
   ],
   "source": [
    "from utils import gpu_cpu_test\n",
    "gpu_cpu_test()\n",
    "#checking gpu|cpu computation abilities"
   ]
  },
  {
   "cell_type": "code",
   "execution_count": 1,
   "metadata": {},
   "outputs": [
    {
     "name": "stderr",
     "output_type": "stream",
     "text": [
      "Using TensorFlow backend.\n"
     ]
    }
   ],
   "source": [
    "#import libraries\n",
    "import numpy as np\n",
    "import matplotlib.pyplot as plt\n",
    "from dataset_getter import open_dataset\n",
    "from utils import save_history\n",
    "\n",
    "from keras.layers import Input, Dense, Convolution2D, MaxPooling2D, UpSampling2D,BatchNormalization\n",
    "from keras.models import Model, load_model\n",
    "from keras import backend as K\n",
    "import easygui"
   ]
  },
  {
   "cell_type": "code",
   "execution_count": 83,
   "metadata": {},
   "outputs": [
    {
     "name": "stdout",
     "output_type": "stream",
     "text": [
      "загружаем 2д-датасет из файла C:\\Users\\milom\\YandexDisk\\Documents\\Programming\\Projects\\Python\\Deep Learning\\DL_ECG\\all_datasets_here\\ELECTRIC_AXIS.pkl\n",
      "409  записей \n",
      "y_train  имеет форму (274, 5)\n",
      "x_train  имеет форму (274, 12, 1, 5000)\n",
      "x_test   имеет форму (135, 12, 1, 5000)\n",
      "y_test   имеет форму (135, 5)\n",
      "после свопа со срезом x_test - (135, 256, 1, 12)\n",
      "после свопа со срезом x_train - (274, 256, 1, 12)\n"
     ]
    }
   ],
   "source": [
    "#load and prepare data\n",
    "n_channels=12\n",
    "ecg_segment_len = 256\n",
    "x_train, x_test, _, _ = open_dataset()\n",
    "x_train = np.swapaxes(x_train, 1, 3)\n",
    "x_test = np.swapaxes(x_test, 1, 3)\n",
    "x_train = x_train[:, 0:ecg_segment_len, :, : ]\n",
    "x_test = x_test[:, 0:ecg_segment_len, :, :]\n",
    "print(\"после свопа со срезом x_test - \" + str(x_test.shape))\n",
    "print(\"после свопа со срезом x_train - \" + str(x_train.shape))\n",
    "#slice 5000 -> 512"
   ]
  },
  {
   "cell_type": "code",
   "execution_count": 84,
   "metadata": {},
   "outputs": [],
   "source": [
    "#input ecg\n",
    "input_data=Input(shape=(ecg_segment_len, 1, n_channels))"
   ]
  },
  {
   "cell_type": "code",
   "execution_count": 98,
   "metadata": {},
   "outputs": [],
   "source": [
    "#convolitonal layers\n",
    "#1l\n",
    "x=Convolution2D(32,kernel_size=(3,1),strides=(1,1), activation='elu',padding='same')(input_data)\n",
    "x=MaxPooling2D((2,2), padding='same')(x)\n",
    "#2l\n",
    "x=Convolution2D(64, kernel_size=(3,1),strides=(1,1),activation='elu', padding='same')(x)\n",
    "encoded=MaxPooling2D((2,2), padding='same')(x)\n",
    "#3l\n",
    "x=Convolution2D(128, kernel_size=(3,1),strides=(1,1),activation='elu', padding='same')(x)\n",
    "x=MaxPooling2D((2,2), padding='same')(x)\n",
    "#4l\n",
    "x=Convolution2D(256, kernel_size=(3,1),strides=(1,1),activation='linear', padding='same')(x)\n",
    "encoded=MaxPooling2D((2,2), padding='same')(x)\n"
   ]
  },
  {
   "cell_type": "code",
   "execution_count": 99,
   "metadata": {},
   "outputs": [],
   "source": [
    "#deconvolitonal layers\n",
    "#1dl\n",
    "x=Convolution2D(256,kernel_size=(3,1),strides=(1,1),activation='elu',padding='same')(encoded)\n",
    "x=UpSampling2D((2,1))(x)\n",
    "#2dl\n",
    "x=Convolution2D(128,kernel_size=(3,1),strides=(1,1),activation='elu',padding='same')(x)\n",
    "x=UpSampling2D((2,1))(x)\n",
    "#3dl\n",
    "x=Convolution2D(64,kernel_size=(3,1),strides=(1,1),activation='elu',padding='same')(x)\n",
    "decoded=UpSampling2D((1,1))(x)\n",
    "#4l\n",
    "x=Convolution2D(32,kernel_size=(3,1),strides=(1,1),activation='elu',padding='same')(x)\n",
    "x=UpSampling2D((2,1))(x)\n",
    "#decoded layer\n",
    "x=Convolution2D(12,kernel_size=(1,1),strides=(1,1), activation='linear',padding='same')(x)\n",
    "decoded=UpSampling2D((1,1))(x)\n"
   ]
  },
  {
   "cell_type": "code",
   "execution_count": 100,
   "metadata": {},
   "outputs": [
    {
     "name": "stdout",
     "output_type": "stream",
     "text": [
      "_________________________________________________________________\n",
      "Layer (type)                 Output Shape              Param #   \n",
      "=================================================================\n",
      "input_7 (InputLayer)         (None, 256, 1, 12)        0         \n",
      "_________________________________________________________________\n",
      "conv2d_135 (Conv2D)          (None, 256, 1, 32)        1184      \n",
      "_________________________________________________________________\n",
      "max_pooling2d_54 (MaxPooling (None, 128, 1, 32)        0         \n",
      "_________________________________________________________________\n",
      "conv2d_136 (Conv2D)          (None, 128, 1, 64)        6208      \n",
      "_________________________________________________________________\n",
      "conv2d_137 (Conv2D)          (None, 128, 1, 128)       24704     \n",
      "_________________________________________________________________\n",
      "max_pooling2d_56 (MaxPooling (None, 64, 1, 128)        0         \n",
      "_________________________________________________________________\n",
      "conv2d_138 (Conv2D)          (None, 64, 1, 256)        98560     \n",
      "_________________________________________________________________\n",
      "max_pooling2d_57 (MaxPooling (None, 32, 1, 256)        0         \n",
      "_________________________________________________________________\n",
      "conv2d_139 (Conv2D)          (None, 32, 1, 256)        196864    \n",
      "_________________________________________________________________\n",
      "up_sampling2d_77 (UpSampling (None, 64, 1, 256)        0         \n",
      "_________________________________________________________________\n",
      "conv2d_140 (Conv2D)          (None, 64, 1, 128)        98432     \n",
      "_________________________________________________________________\n",
      "up_sampling2d_78 (UpSampling (None, 128, 1, 128)       0         \n",
      "_________________________________________________________________\n",
      "conv2d_141 (Conv2D)          (None, 128, 1, 64)        24640     \n",
      "_________________________________________________________________\n",
      "conv2d_142 (Conv2D)          (None, 128, 1, 32)        6176      \n",
      "_________________________________________________________________\n",
      "up_sampling2d_80 (UpSampling (None, 256, 1, 32)        0         \n",
      "_________________________________________________________________\n",
      "conv2d_143 (Conv2D)          (None, 256, 1, 12)        396       \n",
      "_________________________________________________________________\n",
      "up_sampling2d_81 (UpSampling (None, 256, 1, 12)        0         \n",
      "=================================================================\n",
      "Total params: 457,164\n",
      "Trainable params: 457,164\n",
      "Non-trainable params: 0\n",
      "_________________________________________________________________\n"
     ]
    }
   ],
   "source": [
    "caterpillar=Model(input_data,decoded)\n",
    "caterpillar.summary()\n",
    "caterpillar.compile(optimizer='nadam',loss='mean_squared_logarithmic_error')"
   ]
  },
  {
   "cell_type": "code",
   "execution_count": 101,
   "metadata": {},
   "outputs": [
    {
     "name": "stdout",
     "output_type": "stream",
     "text": [
      "Train on 274 samples, validate on 135 samples\n",
      "Epoch 1/50\n",
      "274/274 [==============================] - 3s 10ms/step - loss: 2.6006 - val_loss: 2.2094\n",
      "Epoch 2/50\n",
      "274/274 [==============================] - 0s 1ms/step - loss: 1.6583 - val_loss: 1.5208\n",
      "Epoch 3/50\n",
      "274/274 [==============================] - 0s 1ms/step - loss: 1.2728 - val_loss: 1.1125\n",
      "Epoch 4/50\n",
      "274/274 [==============================] - 0s 1ms/step - loss: 0.9065 - val_loss: 0.8750\n",
      "Epoch 5/50\n",
      "274/274 [==============================] - 0s 1ms/step - loss: 0.7528 - val_loss: 0.7937\n",
      "Epoch 6/50\n",
      "274/274 [==============================] - 0s 1ms/step - loss: 0.7078 - val_loss: 0.7464\n",
      "Epoch 7/50\n",
      "274/274 [==============================] - 0s 1ms/step - loss: 0.5998 - val_loss: 0.9176\n",
      "Epoch 8/50\n",
      "274/274 [==============================] - 0s 1ms/step - loss: 0.6854 - val_loss: 0.9015\n",
      "Epoch 9/50\n",
      "274/274 [==============================] - 0s 1ms/step - loss: 0.5710 - val_loss: 0.7398\n",
      "Epoch 10/50\n",
      "274/274 [==============================] - 0s 1ms/step - loss: 0.5441 - val_loss: 0.6971\n",
      "Epoch 11/50\n",
      "274/274 [==============================] - 0s 1ms/step - loss: 0.5325 - val_loss: 0.7378\n",
      "Epoch 12/50\n",
      "274/274 [==============================] - 0s 1ms/step - loss: 0.5355 - val_loss: 0.7626\n",
      "Epoch 13/50\n",
      "274/274 [==============================] - 0s 1ms/step - loss: 0.4533 - val_loss: 0.6026\n",
      "Epoch 14/50\n",
      "274/274 [==============================] - 0s 1ms/step - loss: 0.4149 - val_loss: 0.7591\n",
      "Epoch 15/50\n",
      "274/274 [==============================] - 0s 1ms/step - loss: 0.4981 - val_loss: 0.5664\n",
      "Epoch 16/50\n",
      "274/274 [==============================] - 0s 1ms/step - loss: 0.3683 - val_loss: 0.5569\n",
      "Epoch 17/50\n",
      "274/274 [==============================] - 0s 1ms/step - loss: 0.3321 - val_loss: 0.5486\n",
      "Epoch 18/50\n",
      "274/274 [==============================] - 0s 1ms/step - loss: 0.3790 - val_loss: 0.7066\n",
      "Epoch 19/50\n",
      "274/274 [==============================] - 0s 1ms/step - loss: 0.4285 - val_loss: 0.5629\n",
      "Epoch 20/50\n",
      "274/274 [==============================] - 0s 994us/step - loss: 0.3803 - val_loss: 0.6855\n",
      "Epoch 21/50\n",
      "274/274 [==============================] - 0s 1ms/step - loss: 0.4323 - val_loss: 0.6055\n",
      "Epoch 22/50\n",
      "274/274 [==============================] - 0s 1ms/step - loss: 0.3508 - val_loss: 0.5871\n",
      "Epoch 23/50\n",
      "274/274 [==============================] - 0s 1ms/step - loss: 0.3179 - val_loss: 0.4952\n",
      "Epoch 24/50\n",
      "274/274 [==============================] - 0s 1ms/step - loss: 0.2797 - val_loss: 0.4393\n",
      "Epoch 25/50\n",
      "274/274 [==============================] - 0s 1ms/step - loss: 0.2456 - val_loss: 0.4119\n",
      "Epoch 26/50\n",
      "274/274 [==============================] - 0s 986us/step - loss: 0.2326 - val_loss: 0.4168\n",
      "Epoch 27/50\n",
      "274/274 [==============================] - 0s 1ms/step - loss: 0.2661 - val_loss: 0.6416\n",
      "Epoch 28/50\n",
      "274/274 [==============================] - 0s 1ms/step - loss: 0.3840 - val_loss: 0.5495\n",
      "Epoch 29/50\n",
      "274/274 [==============================] - 0s 1ms/step - loss: 0.3132 - val_loss: 0.4726\n",
      "Epoch 30/50\n",
      "274/274 [==============================] - 0s 1ms/step - loss: 0.2771 - val_loss: 0.5628\n",
      "Epoch 31/50\n",
      "274/274 [==============================] - 0s 1ms/step - loss: 0.2608 - val_loss: 0.4256\n",
      "Epoch 32/50\n",
      "274/274 [==============================] - 0s 1ms/step - loss: 0.2593 - val_loss: 0.4156\n",
      "Epoch 33/50\n",
      "274/274 [==============================] - 0s 1ms/step - loss: 0.2951 - val_loss: 0.4618\n",
      "Epoch 34/50\n",
      "274/274 [==============================] - 0s 1ms/step - loss: 0.2516 - val_loss: 0.4294\n",
      "Epoch 35/50\n",
      "274/274 [==============================] - 0s 1ms/step - loss: 0.2162 - val_loss: 0.3859\n",
      "Epoch 36/50\n",
      "274/274 [==============================] - 0s 1ms/step - loss: 0.1981 - val_loss: 0.3724\n",
      "Epoch 37/50\n",
      "274/274 [==============================] - 0s 1ms/step - loss: 0.1778 - val_loss: 0.3392\n",
      "Epoch 38/50\n",
      "274/274 [==============================] - 0s 1ms/step - loss: 0.1626 - val_loss: 0.3272\n",
      "Epoch 39/50\n",
      "274/274 [==============================] - 0s 1ms/step - loss: 0.1744 - val_loss: 0.3363\n",
      "Epoch 40/50\n",
      "274/274 [==============================] - 0s 1ms/step - loss: 0.1751 - val_loss: 0.3167\n",
      "Epoch 41/50\n",
      "274/274 [==============================] - 0s 1ms/step - loss: 0.1651 - val_loss: 0.4026\n",
      "Epoch 42/50\n",
      "274/274 [==============================] - 0s 1ms/step - loss: 0.2211 - val_loss: 0.8589\n",
      "Epoch 43/50\n",
      "274/274 [==============================] - 0s 1ms/step - loss: 0.2969 - val_loss: 0.3652\n",
      "Epoch 44/50\n",
      "274/274 [==============================] - 0s 1ms/step - loss: 0.2843 - val_loss: 0.5120\n",
      "Epoch 45/50\n",
      "274/274 [==============================] - 0s 1ms/step - loss: 0.2782 - val_loss: 0.3873\n",
      "Epoch 46/50\n",
      "274/274 [==============================] - 0s 1ms/step - loss: 0.2484 - val_loss: 0.5249\n",
      "Epoch 47/50\n",
      "274/274 [==============================] - 0s 1ms/step - loss: 0.2377 - val_loss: 0.3730\n",
      "Epoch 48/50\n",
      "274/274 [==============================] - 0s 1ms/step - loss: 0.2182 - val_loss: 0.4119\n",
      "Epoch 49/50\n",
      "274/274 [==============================] - 0s 1ms/step - loss: 0.2177 - val_loss: 0.3853\n",
      "Epoch 50/50\n",
      "274/274 [==============================] - 0s 1ms/step - loss: 0.1828 - val_loss: 0.4705\n"
     ]
    }
   ],
   "source": [
    "train_history=caterpillar.fit(x_train,x_train, epochs=50,batch_size=20,shuffle=True,validation_data=(x_test,x_test),callbacks=None)"
   ]
  },
  {
   "cell_type": "code",
   "execution_count": 102,
   "metadata": {},
   "outputs": [
    {
     "data": {
      "image/png": "[encoded data removed]",
      "text/plain": [
       "<Figure size 432x288 with 1 Axes>"
      ]
     },
     "metadata": {},
     "output_type": "display_data"
    }
   ],
   "source": [
    "save_history(train_history,'ctp2')\n",
    "model_name='ae_'\n",
    "caterpillar.save(model_name+'ctp2.h5')\n",
    "caterpillar.save_weights(model_name+'ctp2_weights.h5')"
   ]
  },
  {
   "cell_type": "code",
   "execution_count": 26,
   "metadata": {},
   "outputs": [],
   "source": [
    "#Visualization test\n",
    "def show_reconstruction_by_ae(ecg_sample, name):\n",
    "    filepath = easygui.fileopenbox(\"выберите файл с обученной моделью .h5\")\n",
    "    trained_model = load_model(filepath)\n",
    "\n",
    "    ecg_sample = np.array([ecg_sample])\n",
    "    prediction = trained_model.predict(ecg_sample)\n",
    "\n",
    "    draw_reconstruction_to_png(ecg_sample[0],prediction[0], name)\n",
    "\n",
    "def get_ecg_test_sample(num_patient):\n",
    "    sample = x_test[num_patient,:,:,:]\n",
    "    print(\"форма тензора с экг: \"+ str(sample.shape))\n",
    "    return sample\n",
    "\n",
    "def draw_reconstruction_to_png(ecg_true, ecg_predicted, png_filename):\n",
    "    \"\"\"\n",
    "    :param ecg_true: истинная экг\n",
    "    :param ecg_predicted: предсказанное\n",
    "    :param png_filename: имя для файла с картинкой\n",
    "    :return:\n",
    "    \"\"\"\n",
    "    ecg_true = reshape_ecg_tensor(ecg_true)\n",
    "    ecg_predicted = reshape_ecg_tensor(ecg_predicted)\n",
    "\n",
    "    assert ecg_true.shape == ecg_predicted.shape\n",
    "\n",
    "    len_of_time = len(ecg_true[0])\n",
    "    t = [i for i in range(len_of_time)]\n",
    "\n",
    "\n",
    "    rows = len(ecg_true)  # кол-во каналов\n",
    "    cols = 2              # true и predicted - 2 столбика\n",
    "    f, axarr = plt.subplots(nrows=rows, ncols=cols, sharex=True, sharey=True)\n",
    "    for i in range(rows):\n",
    "        true_i_chanel = ecg_true[i]\n",
    "        predicted_i_chanel = ecg_predicted[i]\n",
    "        axarr[i, 0].plot(t, true_i_chanel)\n",
    "        axarr[i, 1].plot(t, predicted_i_chanel)\n",
    "\n",
    "\n",
    "    plt.savefig(png_filename+\".png\")\n",
    "\n",
    "def reshape_ecg_tensor(ecg):\n",
    "    # превратим (252, 1, 12) в (12, 252)\n",
    "    print (\"форма тезора с экг =  \" + str(ecg.shape))\n",
    "    ecg = ecg[:,0,:]\n",
    "    ecg = np.transpose(ecg)\n",
    "    print (\"форма тезора с экг (после напильника) =\" + str(ecg))\n",
    "    return ecg"
   ]
  },
  {
   "cell_type": "code",
   "execution_count": 103,
   "metadata": {},
   "outputs": [
    {
     "name": "stdout",
     "output_type": "stream",
     "text": [
      "форма тензора с экг: (256, 1, 12)\n",
      "форма тезора с экг =  (256, 1, 12)\n",
      "форма тезора с экг (после напильника) =[[ -6.02731365  -5.87472343  -5.87472343 ...  -5.87472343  -5.87472343\n",
      "   -5.87472343]\n",
      " [-18.23453117 -18.08194095 -18.08194095 ... -27.23735409 -27.23735409\n",
      "  -27.23735409]\n",
      " [-12.13092241 -12.13092241 -12.13092241 ... -21.28633555 -21.28633555\n",
      "  -21.28633555]\n",
      " ...\n",
      " [  3.12809949   3.12809949   3.12809949 ...  -5.87472343  -5.87472343\n",
      "   -5.87472343]\n",
      " [-24.33813993 -24.18554971 -24.18554971 ... -14.11459525 -13.50423438\n",
      "  -12.74128328]\n",
      " [-30.44174868 -30.28915846 -30.28915846 ... -15.03013657 -15.03013657\n",
      "  -15.03013657]]\n",
      "форма тезора с экг =  (256, 1, 12)\n",
      "форма тезора с экг (после напильника) =[[ -1.1478072   -1.1478072   -1.6413443  ...  -1.5690049   -0.03338727\n",
      "   -0.03338727]\n",
      " [ -5.863145    -5.863145    -9.138317   ... -14.506965    -9.729921\n",
      "   -9.729921  ]\n",
      " [ -2.7912457   -2.7912457   -5.9019833  ...  -5.8845906   -2.7029054\n",
      "   -2.7029054 ]\n",
      " ...\n",
      " [ -3.0090325   -3.0090325   -4.680528   ...  -6.684604    -4.32818\n",
      "   -4.32818   ]\n",
      " [ -3.1961703   -3.1961703   -4.9198728  ...  -3.6428394   -3.224686\n",
      "   -3.224686  ]\n",
      " [ -1.4220835   -1.4220835   -6.09611    ...  -1.871149    -1.4378066\n",
      "   -1.4378066 ]]\n"
     ]
    },
    {
     "data": {
      "image/png": "[encoded data removed]",
      "text/plain": [
       "<Figure size 432x288 with 24 Axes>"
      ]
     },
     "metadata": {},
     "output_type": "display_data"
    }
   ],
   "source": [
    "name = \"reconstr\"\n",
    "#model = train_canterpillar(name)\n",
    "ecg_sample = get_ecg_test_sample(num_patient=0)\n",
    "show_reconstruction_by_ae(ecg_sample, name)"
   ]
  },
  {
   "cell_type": "code",
   "execution_count": null,
   "metadata": {},
   "outputs": [],
   "source": []
  }
 ],
 "metadata": {
  "kernelspec": {
   "display_name": "Python 3",
   "language": "python",
   "name": "python3"
  },
  "language_info": {
   "codemirror_mode": {
    "name": "ipython",
    "version": 3
   },
   "file_extension": ".py",
   "mimetype": "text/x-python",
   "name": "python",
   "nbconvert_exporter": "python",
   "pygments_lexer": "ipython3",
   "version": "3.5.5"
  }
 },
 "nbformat": 4,
 "nbformat_minor": 2
}
