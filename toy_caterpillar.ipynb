{
 "cells": [
  {
   "cell_type": "code",
   "execution_count": 1,
   "metadata": {},
   "outputs": [
    {
     "name": "stdout",
     "output_type": "stream",
     "text": [
      "TF version - 1.8.0\n",
      "Default GPU Device: /device:GPU:0\n",
      "---------- -----------\n",
      "Using device info: \n",
      "[name: \"/device:CPU:0\"\n",
      "device_type: \"CPU\"\n",
      "memory_limit: 268435456\n",
      "locality {\n",
      "}\n",
      "incarnation: 15364843434981437178\n",
      ", name: \"/device:GPU:0\"\n",
      "device_type: \"GPU\"\n",
      "memory_limit: 3225105203\n",
      "locality {\n",
      "  bus_id: 1\n",
      "  links {\n",
      "  }\n",
      "}\n",
      "incarnation: 1817406508381914450\n",
      "physical_device_desc: \"device: 0, name: GeForce GTX 960M, pci bus id: 0000:01:00.0, compute capability: 5.0\"\n",
      "]\n"
     ]
    }
   ],
   "source": [
    "from utils import gpu_cpu_test\n",
    "gpu_cpu_test()\n",
    "#checking gpu|cpu computation abilities"
   ]
  },
  {
   "cell_type": "code",
   "execution_count": 2,
   "metadata": {},
   "outputs": [
    {
     "name": "stderr",
     "output_type": "stream",
     "text": [
      "Using TensorFlow backend.\n"
     ]
    }
   ],
   "source": [
    "#import libraries\n",
    "import numpy as np\n",
    "import matplotlib.pyplot as plt\n",
    "from dataset_getter import open_dataset\n",
    "from utils import save_history\n",
    "\n",
    "from keras.layers import Input, Dense, Convolution2D, MaxPooling2D, UpSampling2D\n",
    "from keras.models import Model, load_model\n",
    "from keras import backend as K\n",
    "import easygui"
   ]
  },
  {
   "cell_type": "code",
   "execution_count": 3,
   "metadata": {},
   "outputs": [
    {
     "name": "stdout",
     "output_type": "stream",
     "text": [
      "загружаем 2д-датасет из файла C:\\Users\\milom\\YandexDisk\\Documents\\Programming\\Projects\\Python\\Deep Learning\\DL_ECG\\all_datasets_here\\ELECTRIC_AXIS.pkl\n",
      "409  записей \n",
      "y_train  имеет форму (274, 5)\n",
      "x_train  имеет форму (274, 12, 1, 5000)\n",
      "x_test   имеет форму (135, 12, 1, 5000)\n",
      "y_test   имеет форму (135, 5)\n",
      "после свопа со срезом x_test - (135, 252, 1, 12)\n",
      "после свопа со срезом x_train - (274, 252, 1, 12)\n"
     ]
    }
   ],
   "source": [
    "#load and prepare data\n",
    "ecg_segment_len = 252\n",
    "n_channels=12\n",
    "x_train, x_test, _, _ = open_dataset()\n",
    "x_train = np.swapaxes(x_train, 1, 3)\n",
    "x_test = np.swapaxes(x_test, 1, 3)\n",
    "x_train = x_train[:, 0:ecg_segment_len, :, : ]\n",
    "x_test = x_test[:, 0:ecg_segment_len, :, :]\n",
    "print(\"после свопа со срезом x_test - \" + str(x_test.shape))\n",
    "print(\"после свопа со срезом x_train - \" + str(x_train.shape))\n",
    "#slice 5000 -> 252"
   ]
  },
  {
   "cell_type": "code",
   "execution_count": 4,
   "metadata": {},
   "outputs": [],
   "source": [
    "#input ecg\n",
    "input_data=Input(shape=(ecg_segment_len, 1, n_channels))"
   ]
  },
  {
   "cell_type": "code",
   "execution_count": 31,
   "metadata": {},
   "outputs": [],
   "source": [
    "#convolitonal layers\n",
    "x=Convolution2D(10,kernel_size=(5,1),strides=(1,1), activation='linear',padding='same')(input_data)\n",
    "encoded=MaxPooling2D((2,1), padding='same')(x)"
   ]
  },
  {
   "cell_type": "code",
   "execution_count": 35,
   "metadata": {},
   "outputs": [],
   "source": [
    "#deconvolutional layers\n",
    "x=Convolution2D(12,kernel_size=(3,1),strides=(1,1),activation='linear',padding='same')(encoded)\n",
    "decoded=UpSampling2D((2,1))(x)"
   ]
  },
  {
   "cell_type": "code",
   "execution_count": 36,
   "metadata": {},
   "outputs": [
    {
     "name": "stdout",
     "output_type": "stream",
     "text": [
      "_________________________________________________________________\n",
      "Layer (type)                 Output Shape              Param #   \n",
      "=================================================================\n",
      "input_1 (InputLayer)         (None, 252, 1, 12)        0         \n",
      "_________________________________________________________________\n",
      "conv2d_25 (Conv2D)           (None, 252, 1, 10)        610       \n",
      "_________________________________________________________________\n",
      "max_pooling2d_11 (MaxPooling (None, 126, 1, 10)        0         \n",
      "_________________________________________________________________\n",
      "conv2d_27 (Conv2D)           (None, 126, 1, 12)        372       \n",
      "_________________________________________________________________\n",
      "up_sampling2d_16 (UpSampling (None, 252, 1, 12)        0         \n",
      "=================================================================\n",
      "Total params: 982\n",
      "Trainable params: 982\n",
      "Non-trainable params: 0\n",
      "_________________________________________________________________\n"
     ]
    }
   ],
   "source": [
    "caterpillar=Model(input_data,decoded)\n",
    "caterpillar.summary()\n",
    "caterpillar.compile(optimizer='nadam',loss='mean_squared_logarithmic_error')"
   ]
  },
  {
   "cell_type": "code",
   "execution_count": 37,
   "metadata": {},
   "outputs": [
    {
     "name": "stdout",
     "output_type": "stream",
     "text": [
      "Train on 274 samples, validate on 135 samples\n",
      "Epoch 1/50\n",
      "274/274 [==============================] - 1s 4ms/step - loss: 3.8781 - val_loss: 2.9414\n",
      "Epoch 2/50\n",
      "274/274 [==============================] - 0s 342us/step - loss: 2.2419 - val_loss: 1.7647\n",
      "Epoch 3/50\n",
      "274/274 [==============================] - 0s 313us/step - loss: 1.3971 - val_loss: 1.2041\n",
      "Epoch 4/50\n",
      "274/274 [==============================] - 0s 302us/step - loss: 0.9470 - val_loss: 0.8980\n",
      "Epoch 5/50\n",
      "274/274 [==============================] - 0s 306us/step - loss: 0.6987 - val_loss: 0.6800\n",
      "Epoch 6/50\n",
      "274/274 [==============================] - 0s 306us/step - loss: 0.5260 - val_loss: 0.5309\n",
      "Epoch 7/50\n",
      "274/274 [==============================] - 0s 317us/step - loss: 0.4015 - val_loss: 0.4524\n",
      "Epoch 8/50\n",
      "274/274 [==============================] - 0s 324us/step - loss: 0.3400 - val_loss: 0.3851\n",
      "Epoch 9/50\n",
      "274/274 [==============================] - 0s 309us/step - loss: 0.2945 - val_loss: 0.3366\n",
      "Epoch 10/50\n",
      "274/274 [==============================] - 0s 328us/step - loss: 0.2522 - val_loss: 0.2852\n",
      "Epoch 11/50\n",
      "274/274 [==============================] - 0s 320us/step - loss: 0.2074 - val_loss: 0.2349\n",
      "Epoch 12/50\n",
      "274/274 [==============================] - 0s 306us/step - loss: 0.1738 - val_loss: 0.1854\n",
      "Epoch 13/50\n",
      "274/274 [==============================] - 0s 302us/step - loss: 0.1454 - val_loss: 0.1488\n",
      "Epoch 14/50\n",
      "274/274 [==============================] - 0s 313us/step - loss: 0.1243 - val_loss: 0.1279\n",
      "Epoch 15/50\n",
      "274/274 [==============================] - 0s 346us/step - loss: 0.1103 - val_loss: 0.1203\n",
      "Epoch 16/50\n",
      "274/274 [==============================] - 0s 339us/step - loss: 0.1015 - val_loss: 0.1093\n",
      "Epoch 17/50\n",
      "274/274 [==============================] - 0s 357us/step - loss: 0.0961 - val_loss: 0.1101\n",
      "Epoch 18/50\n",
      "274/274 [==============================] - 0s 357us/step - loss: 0.0938 - val_loss: 0.1028\n",
      "Epoch 19/50\n",
      "274/274 [==============================] - 0s 324us/step - loss: 0.0882 - val_loss: 0.0981\n",
      "Epoch 20/50\n",
      "274/274 [==============================] - 0s 309us/step - loss: 0.0865 - val_loss: 0.0947\n",
      "Epoch 21/50\n",
      "274/274 [==============================] - 0s 317us/step - loss: 0.0831 - val_loss: 0.0920\n",
      "Epoch 22/50\n",
      "274/274 [==============================] - 0s 331us/step - loss: 0.0815 - val_loss: 0.0899\n",
      "Epoch 23/50\n",
      "274/274 [==============================] - 0s 317us/step - loss: 0.0785 - val_loss: 0.0874\n",
      "Epoch 24/50\n",
      "274/274 [==============================] - 0s 328us/step - loss: 0.0775 - val_loss: 0.0850\n",
      "Epoch 25/50\n",
      "274/274 [==============================] - 0s 411us/step - loss: 0.0754 - val_loss: 0.0849\n",
      "Epoch 26/50\n",
      "274/274 [==============================] - 0s 397us/step - loss: 0.0738 - val_loss: 0.0858\n",
      "Epoch 27/50\n",
      "274/274 [==============================] - 0s 353us/step - loss: 0.0737 - val_loss: 0.0806\n",
      "Epoch 28/50\n",
      "274/274 [==============================] - 0s 339us/step - loss: 0.0695 - val_loss: 0.0818\n",
      "Epoch 29/50\n",
      "274/274 [==============================] - 0s 320us/step - loss: 0.0706 - val_loss: 0.0863\n",
      "Epoch 30/50\n",
      "274/274 [==============================] - 0s 342us/step - loss: 0.0684 - val_loss: 0.0792\n",
      "Epoch 31/50\n",
      "274/274 [==============================] - 0s 295us/step - loss: 0.0676 - val_loss: 0.0747\n",
      "Epoch 32/50\n",
      "274/274 [==============================] - 0s 324us/step - loss: 0.0660 - val_loss: 0.0738\n",
      "Epoch 33/50\n",
      "274/274 [==============================] - 0s 309us/step - loss: 0.0645 - val_loss: 0.0734\n",
      "Epoch 34/50\n",
      "274/274 [==============================] - 0s 331us/step - loss: 0.0630 - val_loss: 0.0712\n",
      "Epoch 35/50\n",
      "274/274 [==============================] - 0s 368us/step - loss: 0.0627 - val_loss: 0.0712\n",
      "Epoch 36/50\n",
      "274/274 [==============================] - 0s 386us/step - loss: 0.0618 - val_loss: 0.0704\n",
      "Epoch 37/50\n",
      "274/274 [==============================] - 0s 357us/step - loss: 0.0620 - val_loss: 0.0701\n",
      "Epoch 38/50\n",
      "274/274 [==============================] - 0s 346us/step - loss: 0.0593 - val_loss: 0.0718\n",
      "Epoch 39/50\n",
      "274/274 [==============================] - 0s 331us/step - loss: 0.0598 - val_loss: 0.0700\n",
      "Epoch 40/50\n",
      "274/274 [==============================] - 0s 335us/step - loss: 0.0641 - val_loss: 0.0706\n",
      "Epoch 41/50\n",
      "274/274 [==============================] - 0s 328us/step - loss: 0.0588 - val_loss: 0.0668\n",
      "Epoch 42/50\n",
      "274/274 [==============================] - 0s 346us/step - loss: 0.0567 - val_loss: 0.0670\n",
      "Epoch 43/50\n",
      "274/274 [==============================] - 0s 371us/step - loss: 0.0558 - val_loss: 0.0662\n",
      "Epoch 44/50\n",
      "274/274 [==============================] - 0s 346us/step - loss: 0.0549 - val_loss: 0.0632\n",
      "Epoch 45/50\n",
      "274/274 [==============================] - 0s 346us/step - loss: 0.0554 - val_loss: 0.0656\n",
      "Epoch 46/50\n",
      "274/274 [==============================] - 0s 302us/step - loss: 0.0573 - val_loss: 0.0641\n",
      "Epoch 47/50\n",
      "274/274 [==============================] - 0s 302us/step - loss: 0.0533 - val_loss: 0.0607\n",
      "Epoch 48/50\n",
      "274/274 [==============================] - 0s 302us/step - loss: 0.0523 - val_loss: 0.0611\n",
      "Epoch 49/50\n",
      "274/274 [==============================] - 0s 320us/step - loss: 0.0511 - val_loss: 0.0594\n",
      "Epoch 50/50\n",
      "274/274 [==============================] - 0s 313us/step - loss: 0.0503 - val_loss: 0.0594\n"
     ]
    }
   ],
   "source": [
    "train_history=caterpillar.fit(x_train,x_train, epochs=50,batch_size=20,validation_data=(x_test,x_test),callbacks=None)"
   ]
  },
  {
   "cell_type": "code",
   "execution_count": 38,
   "metadata": {},
   "outputs": [
    {
     "data": {
      "image/png": "[encoded data removed]",
      "text/plain": [
       "<Figure size 432x288 with 1 Axes>"
      ]
     },
     "metadata": {},
     "output_type": "display_data"
    }
   ],
   "source": [
    "save_history(train_history,'toy')\n",
    "model_name='ae_'\n",
    "caterpillar.save(model_name+'toy.h5')\n",
    "caterpillar.save_weights(model_name+'toy_weights.h5')"
   ]
  },
  {
   "cell_type": "code",
   "execution_count": 39,
   "metadata": {},
   "outputs": [],
   "source": [
    "#Visualization test\n",
    "def show_reconstruction_by_ae(ecg_sample, name):\n",
    "    filepath = easygui.fileopenbox(\"выберите файл с обученной моделью .h5\")\n",
    "    trained_model = load_model(filepath)\n",
    "\n",
    "    ecg_sample = np.array([ecg_sample])\n",
    "    prediction = trained_model.predict(ecg_sample)\n",
    "\n",
    "    draw_reconstruction_to_png(ecg_sample[0],prediction[0], name)\n",
    "\n",
    "def get_ecg_test_sample(num_patient):\n",
    "    sample = x_test[num_patient,:,:,:]\n",
    "    print(\"форма тензора с экг: \"+ str(sample.shape))\n",
    "    return sample\n",
    "\n",
    "def draw_reconstruction_to_png(ecg_true, ecg_predicted, png_filename):\n",
    "    \"\"\"\n",
    "    :param ecg_true: истинная экг\n",
    "    :param ecg_predicted: предсказанное\n",
    "    :param png_filename: имя для файла с картинкой\n",
    "    :return:\n",
    "    \"\"\"\n",
    "    ecg_true = reshape_ecg_tensor(ecg_true)\n",
    "    ecg_predicted = reshape_ecg_tensor(ecg_predicted)\n",
    "\n",
    "    assert ecg_true.shape == ecg_predicted.shape\n",
    "\n",
    "    len_of_time = len(ecg_true[0])\n",
    "    t = [i for i in range(len_of_time)]\n",
    "\n",
    "\n",
    "    rows = len(ecg_true)  # кол-во каналов\n",
    "    cols = 2              # true и predicted - 2 столбика\n",
    "    f, axarr = plt.subplots(nrows=rows, ncols=cols, sharex=True, sharey=True)\n",
    "    for i in range(rows):\n",
    "        true_i_chanel = ecg_true[i]\n",
    "        predicted_i_chanel = ecg_predicted[i]\n",
    "        axarr[i, 0].plot(t, true_i_chanel)\n",
    "        axarr[i, 1].plot(t, predicted_i_chanel)\n",
    "\n",
    "\n",
    "    plt.savefig(png_filename+\".png\")\n",
    "\n",
    "def reshape_ecg_tensor(ecg):\n",
    "    # превратим (252, 1, 12) в (12, 252)\n",
    "    print (\"форма тезора с экг =  \" + str(ecg.shape))\n",
    "    ecg = ecg[:,0,:]\n",
    "    ecg = np.transpose(ecg)\n",
    "    print (\"форма тезора с экг (после напильника) =\" + str(ecg))\n",
    "    return ecg"
   ]
  },
  {
   "cell_type": "code",
   "execution_count": 40,
   "metadata": {},
   "outputs": [
    {
     "name": "stdout",
     "output_type": "stream",
     "text": [
      "форма тензора с экг: (252, 1, 12)\n",
      "форма тезора с экг =  (252, 1, 12)\n",
      "форма тезора с экг (после напильника) =[[ -6.02731365  -5.87472343  -5.87472343 ...  -6.02731365  -5.87472343\n",
      "   -5.87472343]\n",
      " [-18.23453117 -18.08194095 -18.08194095 ... -27.23735409 -27.23735409\n",
      "  -27.23735409]\n",
      " [-12.13092241 -12.13092241 -12.13092241 ... -21.13374533 -21.28633555\n",
      "  -21.28633555]\n",
      " ...\n",
      " [  3.12809949   3.12809949   3.12809949 ...  -5.87472343  -5.87472343\n",
      "   -5.87472343]\n",
      " [-24.33813993 -24.18554971 -24.18554971 ... -15.03013657 -15.03013657\n",
      "  -15.03013657]\n",
      " [-30.44174868 -30.28915846 -30.28915846 ... -15.03013657 -15.03013657\n",
      "  -15.03013657]]\n",
      "форма тезора с экг =  (252, 1, 12)\n",
      "форма тезора с экг (после напильника) =[[ -7.280253    -7.280253    -6.2397265  ...  -7.814229     0.47274697\n",
      "    0.47274697]\n",
      " [-11.196496   -11.196496   -20.188442   ... -27.248621   -13.368406\n",
      "  -13.368406  ]\n",
      " [ -3.2349102   -3.2349102  -10.963903   ... -22.586815   -10.629578\n",
      "  -10.629578  ]\n",
      " ...\n",
      " [  7.568306     7.568306     5.14247    ...  -3.4521418   -3.0238192\n",
      "   -3.0238192 ]\n",
      " [-12.327955   -12.327955   -23.258862   ... -13.367618   -14.60405\n",
      "  -14.60405   ]\n",
      " [-20.444242   -20.444242   -29.04955    ... -14.682108    -6.9419003\n",
      "   -6.9419003 ]]\n"
     ]
    },
    {
     "data": {
      "image/png": "[encoded data removed]",
      "text/plain": [
       "<Figure size 432x288 with 24 Axes>"
      ]
     },
     "metadata": {},
     "output_type": "display_data"
    }
   ],
   "source": [
    "name = \"merkel\"\n",
    "#model = train_canterpillar(name)\n",
    "ecg_sample = get_ecg_test_sample(num_patient=0)\n",
    "show_reconstruction_by_ae(ecg_sample, name)"
   ]
  },
  {
   "cell_type": "code",
   "execution_count": null,
   "metadata": {},
   "outputs": [],
   "source": []
  }
 ],
 "metadata": {
  "kernelspec": {
   "display_name": "Python 3",
   "language": "python",
   "name": "python3"
  },
  "language_info": {
   "codemirror_mode": {
    "name": "ipython",
    "version": 3
   },
   "file_extension": ".py",
   "mimetype": "text/x-python",
   "name": "python",
   "nbconvert_exporter": "python",
   "pygments_lexer": "ipython3",
   "version": "3.5.5"
  }
 },
 "nbformat": 4,
 "nbformat_minor": 2
}
